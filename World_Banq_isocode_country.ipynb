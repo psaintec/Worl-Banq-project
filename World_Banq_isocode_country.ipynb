{
 "cells": [
  {
   "cell_type": "markdown",
   "metadata": {},
   "source": [
    "## First example : the economics automation\n",
    "\n",
    "### Import libraries  "
   ]
  },
  {
   "cell_type": "code",
   "execution_count": 1,
   "metadata": {},
   "outputs": [],
   "source": [
    "import pandas\n",
    "import time\n",
    "import random\n",
    "import requests\n",
    "import pickle"
   ]
  },
  {
   "cell_type": "markdown",
   "metadata": {},
   "source": [
    "## Import excel"
   ]
  },
  {
   "cell_type": "code",
   "execution_count": 2,
   "metadata": {},
   "outputs": [],
   "source": [
    "filename = 'C:\\\\Users\\\\paulo\\\\OneDrive\\\\Bureau\\\\UTC\\\\P19\\\\US02 - Data Science\\\\Worl Banq project\\\\Data-sheet-STUDENTS.xlsx'\n",
    "df = pandas.read_excel(filename, header = 2, usecols = 'B:AR') #df we'll take the value of the excel data-sheet-STUDENTS and open it in pyhton. Header will be row 2 and we don't take the first column"
   ]
  },
  {
   "cell_type": "code",
   "execution_count": 3,
   "metadata": {},
   "outputs": [],
   "source": [
    "def get_iso_code(country_name):\n",
    "    try:\n",
    "        url = 'https://restcountries.eu/rest/v2/name/' + country_name\n",
    "        r = requests.get(url)\n",
    "        data = r.json()\n",
    "        return data[0]['alpha3Code']\n",
    "    except KeyError:\n",
    "        print('[ERROR] cannot get code for',country_name)\n",
    "        return None"
   ]
  },
  {
   "cell_type": "code",
   "execution_count": null,
   "metadata": {},
   "outputs": [],
   "source": [
    "countries = {}"
   ]
  },
  {
   "cell_type": "code",
   "execution_count": null,
   "metadata": {},
   "outputs": [],
   "source": [
    "for i,v in df ['Country (according to CN Gov):'].iteritems(): #loop to print all the country in the first column and delete the comments\n",
    "    country_name = v.split('(')[0].strip()\n",
    "    if country_name not in countries.keys():\n",
    "        iso_code = get_iso_code(country_name)\n",
    "        if iso_code is not None:\n",
    "            countries[country_name] = iso_code\n",
    "            print(country_name,iso_code)\n",
    "            time.sleep(0.5+random.random())"
   ]
  },
  {
   "cell_type": "code",
   "execution_count": null,
   "metadata": {},
   "outputs": [],
   "source": [
    "countries['Thailiand'] = 'THA'\n",
    "countries['The United Arab Emirates'] = 'ARE'"
   ]
  },
  {
   "cell_type": "code",
   "execution_count": null,
   "metadata": {},
   "outputs": [],
   "source": [
    "len(countries.keys()) == len(df['Country (according to CN Gov):'])"
   ]
  },
  {
   "cell_type": "code",
   "execution_count": null,
   "metadata": {},
   "outputs": [],
   "source": [
    "with open ('countries.pickle','wb+') as fp: #wb+ : write bite and add it \n",
    "    pickle.dump(countries, fp)"
   ]
  },
  {
   "cell_type": "code",
   "execution_count": null,
   "metadata": {},
   "outputs": [],
   "source": [
    "with open ('countries.pickle','rb') as fp: #rb : read bite\n",
    "    test = pickle.load(fp)\n",
    "test"
   ]
  },
  {
   "cell_type": "markdown",
   "metadata": {},
   "source": [
    "### Request an API on worldbank"
   ]
  },
  {
   "cell_type": "code",
   "execution_count": null,
   "metadata": {},
   "outputs": [],
   "source": [
    "url = 'http://api.worldbank.org/v2/country/bra/indicator/GC.TAX.IMPT.ZS?format=json' #link to the api of the brasil's indicators on the website world bank\n",
    "r = requests.get(url) #ask the programm to read the indicator\n",
    "print(r.status_code) \n",
    "data = r.json() #stock the indicator into data (.json is an api's format)\n",
    "print('data for', data[1][1]['country']['value'], 'is',data[1][1]['value']) "
   ]
  },
  {
   "cell_type": "code",
   "execution_count": null,
   "metadata": {},
   "outputs": [],
   "source": [
    "for i in data[1]: #we're looking for the first non empty indicator on the api\n",
    "    if i['value'] is None: \n",
    "        continue\n",
    "    else:\n",
    "        print(i['date'], i['value']) #print the date and the indicator of the first non empty. \n",
    "        break"
   ]
  },
  {
   "cell_type": "code",
   "execution_count": null,
   "metadata": {},
   "outputs": [],
   "source": [
    "country_name = 'France' #creation of a function which allow to find the \"alpha3code\" of a country\n",
    "url = 'https://restcountries.eu/rest/v2/name/' + country_name\n",
    "r = requests.get(url)\n",
    "data = r.json()\n",
    "print(country_name, data[0]['alpha3Code'])"
   ]
  }
 ],
 "metadata": {
  "kernelspec": {
   "display_name": "Python 3",
   "language": "python",
   "name": "python3"
  },
  "language_info": {
   "codemirror_mode": {
    "name": "ipython",
    "version": 3
   },
   "file_extension": ".py",
   "mimetype": "text/x-python",
   "name": "python",
   "nbconvert_exporter": "python",
   "pygments_lexer": "ipython3",
   "version": "3.7.1"
  }
 },
 "nbformat": 4,
 "nbformat_minor": 2
}
